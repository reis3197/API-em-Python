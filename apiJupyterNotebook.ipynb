{
 "cells": [
  {
   "cell_type": "code",
   "execution_count": 2,
   "id": "1905c39a",
   "metadata": {},
   "outputs": [],
   "source": [
    "import pandas as pd\n",
    "from flask import Flask, jsonify"
   ]
  },
  {
   "cell_type": "code",
   "execution_count": null,
   "id": "7af3a1c5",
   "metadata": {},
   "outputs": [
    {
     "name": "stdout",
     "output_type": "stream",
     "text": [
      " * Serving Flask app '__main__'\n",
      " * Debug mode: off\n"
     ]
    },
    {
     "name": "stderr",
     "output_type": "stream",
     "text": [
      "WARNING: This is a development server. Do not use it in a production deployment. Use a production WSGI server instead.\n",
      " * Running on http://127.0.0.1:5000\n",
      "Press CTRL+C to quit\n",
      "127.0.0.1 - - [11/Mar/2025 14:04:32] \"GET / HTTP/1.1\" 200 -\n",
      "127.0.0.1 - - [11/Mar/2025 14:04:33] \"GET /favicon.ico HTTP/1.1\" 404 -\n",
      "127.0.0.1 - - [11/Mar/2025 14:04:41] \"GET /vendas HTTP/1.1\" 200 -\n",
      "127.0.0.1 - - [11/Mar/2025 14:04:58] \"GET /vendas HTTP/1.1\" 200 -\n",
      "127.0.0.1 - - [11/Mar/2025 14:04:58] \"GET /favicon.ico HTTP/1.1\" 404 -\n"
     ]
    }
   ],
   "source": [
    "app = Flask(__name__)\n",
    "\n",
    "\n",
    "@app.route('/')\n",
    "def homepage():\n",
    "    return 'API está ON'\n",
    "\n",
    "\n",
    "@app.route('/vendas')\n",
    "def vendas():\n",
    "    df = pd.read_excel('C:/Python/arquivos_api/vendas.xlsx')\n",
    "\n",
    "    #df['DATA'] = pd.to_datetime(df['DATA']).dt.date\n",
    "    \n",
    "    resultado = {}\n",
    "    for index, row in df.iterrows():\n",
    "        resultado[index] = dict(row)\n",
    "\n",
    "    return jsonify(resultado)    \n",
    "\n",
    "\n",
    "@app.route('/total')\n",
    "def total():\n",
    "    df = pd.read_excel('D:/ApiTestes/vendas.xlsx')\n",
    "    total_vendas = df['VALOR_TOTAL'].sum()    \n",
    "    resultado = {'Total de Vendas' : total_vendas.astype(str)}    \n",
    "    return jsonify(resultado)   \n",
    "\n",
    "app.run(debug = False)"
   ]
  },
  {
   "cell_type": "code",
   "execution_count": null,
   "id": "d3f7c30a",
   "metadata": {},
   "outputs": [],
   "source": []
  }
 ],
 "metadata": {
  "kernelspec": {
   "display_name": "Python 3 (ipykernel)",
   "language": "python",
   "name": "python3"
  },
  "language_info": {
   "codemirror_mode": {
    "name": "ipython",
    "version": 3
   },
   "file_extension": ".py",
   "mimetype": "text/x-python",
   "name": "python",
   "nbconvert_exporter": "python",
   "pygments_lexer": "ipython3",
   "version": "3.9.13"
  }
 },
 "nbformat": 4,
 "nbformat_minor": 5
}
